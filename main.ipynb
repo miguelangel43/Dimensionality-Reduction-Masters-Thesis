{
 "cells": [
  {
   "cell_type": "code",
   "execution_count": 1,
   "metadata": {},
   "outputs": [],
   "source": [
    "from models import Dim\n",
    "from datasets import coil2000\n",
    "from datetime import datetime\n",
    "import numpy as np\n",
    "from sklearn.preprocessing import MinMaxScaler\n",
    "from sklearn.cluster import KMeans\n",
    "import matplotlib.pyplot as plt\n",
    "import pandas as pd\n",
    "pd.set_option('display.max_columns', None)"
   ]
  },
  {
   "attachments": {},
   "cell_type": "markdown",
   "metadata": {},
   "source": [
    "## Dimensionality Reduction"
   ]
  },
  {
   "cell_type": "code",
   "execution_count": 2,
   "metadata": {},
   "outputs": [],
   "source": [
    "%matplotlib inline\n",
    "import numpy as np\n",
    "import matplotlib.pyplot as plt\n",
    "from sklearn.metrics.pairwise import rbf_kernel\n",
    "from sklearn.metrics.pairwise import polynomial_kernel\n",
    "\n",
    "from sklearn.datasets import make_blobs\n",
    "\n",
    "X, y = make_blobs(5, n_features=3, centers=4,\n",
    "                  cluster_std=1, random_state=34)\n",
    "\n",
    "# dim = Dim()\n",
    "# dim.X_train = X\n",
    "# dim.y_train = y\n",
    "\n",
    "# dim.apply_dim(num_dim=5)\n"
   ]
  },
  {
   "attachments": {},
   "cell_type": "markdown",
   "metadata": {},
   "source": [
    "Linear kernel"
   ]
  },
  {
   "cell_type": "code",
   "execution_count": 6,
   "metadata": {},
   "outputs": [],
   "source": [
    "KXX = np.dot(X, X.T)\n",
    "l = KXX.shape[0]\n",
    "j = np.ones(l)\n",
    "KXX = KXX - (np.dot(np.dot(j, j.T), KXX))/l - (np.dot(KXX, np.dot(j, j.T))) / \\\n",
    "    l + (np.dot((np.dot(j.T, np.dot(KXX, j))), np.dot(j, j.T)))/(np.power(l, 2))"
   ]
  },
  {
   "cell_type": "code",
   "execution_count": 70,
   "metadata": {},
   "outputs": [],
   "source": [
    "y = np.array([y+1 for y in y])"
   ]
  },
  {
   "cell_type": "code",
   "execution_count": 71,
   "metadata": {},
   "outputs": [
    {
     "data": {
      "text/plain": [
       "array([[3, 2, 1, 1, 4]])"
      ]
     },
     "execution_count": 71,
     "metadata": {},
     "output_type": "execute_result"
    }
   ],
   "source": [
    "y"
   ]
  },
  {
   "cell_type": "code",
   "execution_count": 72,
   "metadata": {},
   "outputs": [
    {
     "name": "stdout",
     "output_type": "stream",
     "text": [
      "[[ 9  6  3  3 12]\n",
      " [ 6  4  2  2  8]\n",
      " [ 3  2  1  1  4]\n",
      " [ 3  2  1  1  4]\n",
      " [12  8  4  4 16]]\n"
     ]
    }
   ],
   "source": [
    "y = np.reshape(y, (1, y.size))\n",
    "KYY = np.dot(y.T, y)\n",
    "print(KYY)\n",
    "l = KYY.shape[0]\n",
    "j = np.ones(l)\n",
    "KYY = KYY - (np.dot(np.dot(j, j.T), KYY))/l - (np.dot(KYY, np.dot(j, j.T))) / \\\n",
    "    l + (np.dot((np.dot(j.T, np.dot(KYY, j))), np.dot(j, j.T)))/(np.power(l, 2))"
   ]
  },
  {
   "cell_type": "code",
   "execution_count": 61,
   "metadata": {},
   "outputs": [
    {
     "data": {
      "text/plain": [
       "array([[-0.2,  0.8,  0.8,  0.8, -0.2],\n",
       "       [ 0.8,  0.8,  0.8,  0.8,  0.8],\n",
       "       [ 0.8,  0.8,  0.8,  0.8,  0.8],\n",
       "       [ 0.8,  0.8,  0.8,  0.8,  0.8],\n",
       "       [-0.2,  0.8,  0.8,  0.8, -0.2]])"
      ]
     },
     "execution_count": 61,
     "metadata": {},
     "output_type": "execute_result"
    }
   ],
   "source": [
    "KYY"
   ]
  },
  {
   "cell_type": "code",
   "execution_count": 55,
   "metadata": {},
   "outputs": [
    {
     "data": {
      "text/plain": [
       "array([[2742.23000597, 3176.76780853, 3611.30561109, 3611.30561109,\n",
       "        2307.69220341],\n",
       "       [4131.41253212, 4308.95125807, 4486.48998402, 4486.48998402,\n",
       "        3953.87380617],\n",
       "       [1266.88759736, 2391.14704449, 3515.40649161, 3515.40649161,\n",
       "         142.62815024],\n",
       "       [1331.44253349, 2459.78849634, 3588.13445918, 3588.13445918,\n",
       "         203.09657065],\n",
       "       [3048.24239089, 3238.34107575, 3428.4397606 , 3428.4397606 ,\n",
       "        2858.14370603]])"
      ]
     },
     "execution_count": 55,
     "metadata": {},
     "output_type": "execute_result"
    }
   ],
   "source": [
    "np.dot(KXX, KYY)"
   ]
  },
  {
   "cell_type": "code",
   "execution_count": 32,
   "metadata": {},
   "outputs": [
    {
     "data": {
      "text/plain": [
       "array([[14]])"
      ]
     },
     "execution_count": 32,
     "metadata": {},
     "output_type": "execute_result"
    }
   ],
   "source": [
    "KYY = np.dot(y.T, y)\n",
    "KYY"
   ]
  },
  {
   "cell_type": "code",
   "execution_count": null,
   "metadata": {},
   "outputs": [],
   "source": [
    "centered_KYY = KYY - (np.dot(np.dot(j, j.T), KYY))/l - (np.dot(KYY, np.dot(j, j.T))) / \\\n",
    "    l + (np.dot((np.dot(j.T, np.dot(KYY, j))), np.dot(j, j.T)))/(np.power(l, 2))\n",
    "centered_KYY"
   ]
  },
  {
   "cell_type": "code",
   "execution_count": 46,
   "metadata": {},
   "outputs": [
    {
     "data": {
      "text/plain": [
       "array([[1.00000000e+00, 9.52063763e-47, 1.71179053e-27],\n",
       "       [9.52063763e-47, 1.00000000e+00, 1.45449075e-07],\n",
       "       [1.71179053e-27, 1.45449075e-07, 1.00000000e+00]])"
      ]
     },
     "execution_count": 46,
     "metadata": {},
     "output_type": "execute_result"
    }
   ],
   "source": [
    "rbf_kernel(X.T)a"
   ]
  },
  {
   "cell_type": "code",
   "execution_count": 3,
   "metadata": {},
   "outputs": [
    {
     "name": "stderr",
     "output_type": "stream",
     "text": [
      "('5Dim', 'SLMVP', 'Linear'):   0%|          | 0/1 [00:00<?, ?it/s]"
     ]
    },
    {
     "name": "stdout",
     "output_type": "stream",
     "text": [
      "KXX (4657, 4657)\n",
      "KYY (4657, 4657)\n"
     ]
    },
    {
     "name": "stderr",
     "output_type": "stream",
     "text": [
      "('5Dim', 'KPCA', 'Linear'):   0%|          | 0/1 [00:10<?, ?it/s] \n"
     ]
    },
    {
     "ename": "KeyboardInterrupt",
     "evalue": "",
     "output_type": "error",
     "traceback": [
      "\u001b[0;31m---------------------------------------------------------------------------\u001b[0m",
      "\u001b[0;31mKeyboardInterrupt\u001b[0m                         Traceback (most recent call last)",
      "\u001b[0;32m<ipython-input-3-3d7c43d50c0d>\u001b[0m in \u001b[0;36m<module>\u001b[0;34m\u001b[0m\n\u001b[1;32m      2\u001b[0m \u001b[0mdim\u001b[0m \u001b[0;34m=\u001b[0m \u001b[0mDim\u001b[0m\u001b[0;34m(\u001b[0m\u001b[0mdata\u001b[0m\u001b[0;34m.\u001b[0m\u001b[0mtrain\u001b[0m\u001b[0;34m,\u001b[0m \u001b[0mdata\u001b[0m\u001b[0;34m.\u001b[0m\u001b[0mtest\u001b[0m\u001b[0;34m,\u001b[0m \u001b[0mdata\u001b[0m\u001b[0;34m.\u001b[0m\u001b[0mcol_names\u001b[0m\u001b[0;34m)\u001b[0m\u001b[0;34m\u001b[0m\u001b[0;34m\u001b[0m\u001b[0m\n\u001b[1;32m      3\u001b[0m \u001b[0;31m#dim.unpickle_dim('dim/03-23-20:36.pkl')\u001b[0m\u001b[0;34m\u001b[0m\u001b[0;34m\u001b[0m\u001b[0;34m\u001b[0m\u001b[0m\n\u001b[0;32m----> 4\u001b[0;31m \u001b[0mdim\u001b[0m\u001b[0;34m.\u001b[0m\u001b[0mapply_dim\u001b[0m\u001b[0;34m(\u001b[0m\u001b[0mnum_dim\u001b[0m\u001b[0;34m=\u001b[0m\u001b[0;36m5\u001b[0m\u001b[0;34m)\u001b[0m\u001b[0;34m\u001b[0m\u001b[0;34m\u001b[0m\u001b[0m\n\u001b[0m\u001b[1;32m      5\u001b[0m \u001b[0;31m#dim.pickle_dim(datetime.now().strftime('%m-%d-%H:%M'))\u001b[0m\u001b[0;34m\u001b[0m\u001b[0;34m\u001b[0m\u001b[0;34m\u001b[0m\u001b[0m\n",
      "\u001b[0;32m~/Documents/TFM/tfm_code/models.py\u001b[0m in \u001b[0;36mapply_dim\u001b[0;34m(self, num_dim)\u001b[0m\n\u001b[1;32m    129\u001b[0m             \u001b[0mkey\u001b[0m \u001b[0;34m=\u001b[0m \u001b[0;34m(\u001b[0m\u001b[0mstr\u001b[0m\u001b[0;34m(\u001b[0m\u001b[0mdim\u001b[0m\u001b[0;34m)\u001b[0m \u001b[0;34m+\u001b[0m \u001b[0;34m'Dim'\u001b[0m\u001b[0;34m,\u001b[0m \u001b[0;34m'KPCA'\u001b[0m\u001b[0;34m,\u001b[0m \u001b[0;34m'Linear'\u001b[0m\u001b[0;34m)\u001b[0m\u001b[0;34m\u001b[0m\u001b[0;34m\u001b[0m\u001b[0m\n\u001b[1;32m    130\u001b[0m             \u001b[0mpbar\u001b[0m\u001b[0;34m.\u001b[0m\u001b[0mset_description\u001b[0m\u001b[0;34m(\u001b[0m\u001b[0mstr\u001b[0m\u001b[0;34m(\u001b[0m\u001b[0mkey\u001b[0m\u001b[0;34m)\u001b[0m\u001b[0;34m)\u001b[0m\u001b[0;34m\u001b[0m\u001b[0;34m\u001b[0m\u001b[0m\n\u001b[0;32m--> 131\u001b[0;31m             \u001b[0mself\u001b[0m\u001b[0;34m.\u001b[0m\u001b[0mnew_dim\u001b[0m\u001b[0;34m[\u001b[0m\u001b[0mkey\u001b[0m\u001b[0;34m]\u001b[0m \u001b[0;34m=\u001b[0m \u001b[0mself\u001b[0m\u001b[0;34m.\u001b[0m\u001b[0mkpca_model\u001b[0m\u001b[0;34m(\u001b[0m\u001b[0mdim\u001b[0m\u001b[0;34m,\u001b[0m \u001b[0;34m'linear'\u001b[0m\u001b[0;34m)\u001b[0m\u001b[0;34m\u001b[0m\u001b[0;34m\u001b[0m\u001b[0m\n\u001b[0m\u001b[1;32m    132\u001b[0m             \u001b[0mkey\u001b[0m \u001b[0;34m=\u001b[0m \u001b[0;34m(\u001b[0m\u001b[0mstr\u001b[0m\u001b[0;34m(\u001b[0m\u001b[0mdim\u001b[0m\u001b[0;34m)\u001b[0m \u001b[0;34m+\u001b[0m \u001b[0;34m'Dim'\u001b[0m\u001b[0;34m,\u001b[0m \u001b[0;34m'KPCA'\u001b[0m\u001b[0;34m,\u001b[0m \u001b[0;34m'Polynomial'\u001b[0m\u001b[0;34m)\u001b[0m\u001b[0;34m\u001b[0m\u001b[0;34m\u001b[0m\u001b[0m\n\u001b[1;32m    133\u001b[0m             \u001b[0mpbar\u001b[0m\u001b[0;34m.\u001b[0m\u001b[0mset_description\u001b[0m\u001b[0;34m(\u001b[0m\u001b[0mstr\u001b[0m\u001b[0;34m(\u001b[0m\u001b[0mkey\u001b[0m\u001b[0;34m)\u001b[0m\u001b[0;34m)\u001b[0m\u001b[0;34m\u001b[0m\u001b[0;34m\u001b[0m\u001b[0m\n",
      "\u001b[0;32m~/Documents/TFM/tfm_code/models.py\u001b[0m in \u001b[0;36mkpca_model\u001b[0;34m(self, n, type_kernel)\u001b[0m\n\u001b[1;32m    215\u001b[0m             \u001b[0mn_components\u001b[0m\u001b[0;34m=\u001b[0m\u001b[0mn\u001b[0m\u001b[0;34m,\u001b[0m \u001b[0mkernel\u001b[0m\u001b[0;34m=\u001b[0m\u001b[0mtype_kernel\u001b[0m\u001b[0;34m,\u001b[0m \u001b[0mfit_inverse_transform\u001b[0m\u001b[0;34m=\u001b[0m\u001b[0;32mTrue\u001b[0m\u001b[0;34m\u001b[0m\u001b[0;34m\u001b[0m\u001b[0m\n\u001b[1;32m    216\u001b[0m         )\n\u001b[0;32m--> 217\u001b[0;31m         \u001b[0mX_kpca_train\u001b[0m \u001b[0;34m=\u001b[0m \u001b[0mkernel_pca\u001b[0m\u001b[0;34m.\u001b[0m\u001b[0mfit\u001b[0m\u001b[0;34m(\u001b[0m\u001b[0mself\u001b[0m\u001b[0;34m.\u001b[0m\u001b[0mX_train\u001b[0m\u001b[0;34m)\u001b[0m\u001b[0;34m.\u001b[0m\u001b[0mtransform\u001b[0m\u001b[0;34m(\u001b[0m\u001b[0mself\u001b[0m\u001b[0;34m.\u001b[0m\u001b[0mX_train\u001b[0m\u001b[0;34m)\u001b[0m\u001b[0;34m\u001b[0m\u001b[0;34m\u001b[0m\u001b[0m\n\u001b[0m\u001b[1;32m    218\u001b[0m         \u001b[0mX_kpca_test\u001b[0m \u001b[0;34m=\u001b[0m \u001b[0mkernel_pca\u001b[0m\u001b[0;34m.\u001b[0m\u001b[0mtransform\u001b[0m\u001b[0;34m(\u001b[0m\u001b[0mself\u001b[0m\u001b[0;34m.\u001b[0m\u001b[0mX_test\u001b[0m\u001b[0;34m)\u001b[0m\u001b[0;34m\u001b[0m\u001b[0;34m\u001b[0m\u001b[0m\n\u001b[1;32m    219\u001b[0m \u001b[0;34m\u001b[0m\u001b[0m\n",
      "\u001b[0;32m/usr/local/lib/python3.9/site-packages/sklearn/decomposition/_kernel_pca.py\u001b[0m in \u001b[0;36mfit\u001b[0;34m(self, X, y)\u001b[0m\n\u001b[1;32m    284\u001b[0m         \u001b[0mself\u001b[0m\u001b[0;34m.\u001b[0m\u001b[0m_centerer\u001b[0m \u001b[0;34m=\u001b[0m \u001b[0mKernelCenterer\u001b[0m\u001b[0;34m(\u001b[0m\u001b[0;34m)\u001b[0m\u001b[0;34m\u001b[0m\u001b[0;34m\u001b[0m\u001b[0m\n\u001b[1;32m    285\u001b[0m         \u001b[0mK\u001b[0m \u001b[0;34m=\u001b[0m \u001b[0mself\u001b[0m\u001b[0;34m.\u001b[0m\u001b[0m_get_kernel\u001b[0m\u001b[0;34m(\u001b[0m\u001b[0mX\u001b[0m\u001b[0;34m)\u001b[0m\u001b[0;34m\u001b[0m\u001b[0;34m\u001b[0m\u001b[0m\n\u001b[0;32m--> 286\u001b[0;31m         \u001b[0mself\u001b[0m\u001b[0;34m.\u001b[0m\u001b[0m_fit_transform\u001b[0m\u001b[0;34m(\u001b[0m\u001b[0mK\u001b[0m\u001b[0;34m)\u001b[0m\u001b[0;34m\u001b[0m\u001b[0;34m\u001b[0m\u001b[0m\n\u001b[0m\u001b[1;32m    287\u001b[0m \u001b[0;34m\u001b[0m\u001b[0m\n\u001b[1;32m    288\u001b[0m         \u001b[0;32mif\u001b[0m \u001b[0mself\u001b[0m\u001b[0;34m.\u001b[0m\u001b[0mfit_inverse_transform\u001b[0m\u001b[0;34m:\u001b[0m\u001b[0;34m\u001b[0m\u001b[0;34m\u001b[0m\u001b[0m\n",
      "\u001b[0;32m/usr/local/lib/python3.9/site-packages/sklearn/decomposition/_kernel_pca.py\u001b[0m in \u001b[0;36m_fit_transform\u001b[0;34m(self, K)\u001b[0m\n\u001b[1;32m    211\u001b[0m         \u001b[0;32melif\u001b[0m \u001b[0meigen_solver\u001b[0m \u001b[0;34m==\u001b[0m \u001b[0;34m'arpack'\u001b[0m\u001b[0;34m:\u001b[0m\u001b[0;34m\u001b[0m\u001b[0;34m\u001b[0m\u001b[0m\n\u001b[1;32m    212\u001b[0m             \u001b[0mv0\u001b[0m \u001b[0;34m=\u001b[0m \u001b[0m_init_arpack_v0\u001b[0m\u001b[0;34m(\u001b[0m\u001b[0mK\u001b[0m\u001b[0;34m.\u001b[0m\u001b[0mshape\u001b[0m\u001b[0;34m[\u001b[0m\u001b[0;36m0\u001b[0m\u001b[0;34m]\u001b[0m\u001b[0;34m,\u001b[0m \u001b[0mself\u001b[0m\u001b[0;34m.\u001b[0m\u001b[0mrandom_state\u001b[0m\u001b[0;34m)\u001b[0m\u001b[0;34m\u001b[0m\u001b[0;34m\u001b[0m\u001b[0m\n\u001b[0;32m--> 213\u001b[0;31m             self.lambdas_, self.alphas_ = eigsh(K, n_components,\n\u001b[0m\u001b[1;32m    214\u001b[0m                                                 \u001b[0mwhich\u001b[0m\u001b[0;34m=\u001b[0m\u001b[0;34m\"LA\"\u001b[0m\u001b[0;34m,\u001b[0m\u001b[0;34m\u001b[0m\u001b[0;34m\u001b[0m\u001b[0m\n\u001b[1;32m    215\u001b[0m                                                 \u001b[0mtol\u001b[0m\u001b[0;34m=\u001b[0m\u001b[0mself\u001b[0m\u001b[0;34m.\u001b[0m\u001b[0mtol\u001b[0m\u001b[0;34m,\u001b[0m\u001b[0;34m\u001b[0m\u001b[0;34m\u001b[0m\u001b[0m\n",
      "\u001b[0;32m/usr/local/lib/python3.9/site-packages/scipy/sparse/linalg/_eigen/arpack/arpack.py\u001b[0m in \u001b[0;36meigsh\u001b[0;34m(A, k, M, sigma, which, v0, ncv, maxiter, tol, return_eigenvectors, Minv, OPinv, mode)\u001b[0m\n\u001b[1;32m   1695\u001b[0m     \u001b[0;32mwith\u001b[0m \u001b[0m_ARPACK_LOCK\u001b[0m\u001b[0;34m:\u001b[0m\u001b[0;34m\u001b[0m\u001b[0;34m\u001b[0m\u001b[0m\n\u001b[1;32m   1696\u001b[0m         \u001b[0;32mwhile\u001b[0m \u001b[0;32mnot\u001b[0m \u001b[0mparams\u001b[0m\u001b[0;34m.\u001b[0m\u001b[0mconverged\u001b[0m\u001b[0;34m:\u001b[0m\u001b[0;34m\u001b[0m\u001b[0;34m\u001b[0m\u001b[0m\n\u001b[0;32m-> 1697\u001b[0;31m             \u001b[0mparams\u001b[0m\u001b[0;34m.\u001b[0m\u001b[0miterate\u001b[0m\u001b[0;34m(\u001b[0m\u001b[0;34m)\u001b[0m\u001b[0;34m\u001b[0m\u001b[0;34m\u001b[0m\u001b[0m\n\u001b[0m\u001b[1;32m   1698\u001b[0m \u001b[0;34m\u001b[0m\u001b[0m\n\u001b[1;32m   1699\u001b[0m         \u001b[0;32mreturn\u001b[0m \u001b[0mparams\u001b[0m\u001b[0;34m.\u001b[0m\u001b[0mextract\u001b[0m\u001b[0;34m(\u001b[0m\u001b[0mreturn_eigenvectors\u001b[0m\u001b[0;34m)\u001b[0m\u001b[0;34m\u001b[0m\u001b[0;34m\u001b[0m\u001b[0m\n",
      "\u001b[0;32m/usr/local/lib/python3.9/site-packages/scipy/sparse/linalg/_eigen/arpack/arpack.py\u001b[0m in \u001b[0;36miterate\u001b[0;34m(self)\u001b[0m\n\u001b[1;32m    547\u001b[0m             \u001b[0;31m# compute y = Op*x\u001b[0m\u001b[0;34m\u001b[0m\u001b[0;34m\u001b[0m\u001b[0;34m\u001b[0m\u001b[0m\n\u001b[1;32m    548\u001b[0m             \u001b[0;32mif\u001b[0m \u001b[0mself\u001b[0m\u001b[0;34m.\u001b[0m\u001b[0mmode\u001b[0m \u001b[0;34m==\u001b[0m \u001b[0;36m1\u001b[0m\u001b[0;34m:\u001b[0m\u001b[0;34m\u001b[0m\u001b[0;34m\u001b[0m\u001b[0m\n\u001b[0;32m--> 549\u001b[0;31m                 \u001b[0mself\u001b[0m\u001b[0;34m.\u001b[0m\u001b[0mworkd\u001b[0m\u001b[0;34m[\u001b[0m\u001b[0myslice\u001b[0m\u001b[0;34m]\u001b[0m \u001b[0;34m=\u001b[0m \u001b[0mself\u001b[0m\u001b[0;34m.\u001b[0m\u001b[0mOP\u001b[0m\u001b[0;34m(\u001b[0m\u001b[0mself\u001b[0m\u001b[0;34m.\u001b[0m\u001b[0mworkd\u001b[0m\u001b[0;34m[\u001b[0m\u001b[0mxslice\u001b[0m\u001b[0;34m]\u001b[0m\u001b[0;34m)\u001b[0m\u001b[0;34m\u001b[0m\u001b[0;34m\u001b[0m\u001b[0m\n\u001b[0m\u001b[1;32m    550\u001b[0m             \u001b[0;32melif\u001b[0m \u001b[0mself\u001b[0m\u001b[0;34m.\u001b[0m\u001b[0mmode\u001b[0m \u001b[0;34m==\u001b[0m \u001b[0;36m2\u001b[0m\u001b[0;34m:\u001b[0m\u001b[0;34m\u001b[0m\u001b[0;34m\u001b[0m\u001b[0m\n\u001b[1;32m    551\u001b[0m                 \u001b[0mself\u001b[0m\u001b[0;34m.\u001b[0m\u001b[0mworkd\u001b[0m\u001b[0;34m[\u001b[0m\u001b[0mxslice\u001b[0m\u001b[0;34m]\u001b[0m \u001b[0;34m=\u001b[0m \u001b[0mself\u001b[0m\u001b[0;34m.\u001b[0m\u001b[0mOPb\u001b[0m\u001b[0;34m(\u001b[0m\u001b[0mself\u001b[0m\u001b[0;34m.\u001b[0m\u001b[0mworkd\u001b[0m\u001b[0;34m[\u001b[0m\u001b[0mxslice\u001b[0m\u001b[0;34m]\u001b[0m\u001b[0;34m)\u001b[0m\u001b[0;34m\u001b[0m\u001b[0;34m\u001b[0m\u001b[0m\n",
      "\u001b[0;32m/usr/local/lib/python3.9/site-packages/scipy/sparse/linalg/_interface.py\u001b[0m in \u001b[0;36mmatvec\u001b[0;34m(self, x)\u001b[0m\n\u001b[1;32m    230\u001b[0m             \u001b[0;32mraise\u001b[0m \u001b[0mValueError\u001b[0m\u001b[0;34m(\u001b[0m\u001b[0;34m'dimension mismatch'\u001b[0m\u001b[0;34m)\u001b[0m\u001b[0;34m\u001b[0m\u001b[0;34m\u001b[0m\u001b[0m\n\u001b[1;32m    231\u001b[0m \u001b[0;34m\u001b[0m\u001b[0m\n\u001b[0;32m--> 232\u001b[0;31m         \u001b[0my\u001b[0m \u001b[0;34m=\u001b[0m \u001b[0mself\u001b[0m\u001b[0;34m.\u001b[0m\u001b[0m_matvec\u001b[0m\u001b[0;34m(\u001b[0m\u001b[0mx\u001b[0m\u001b[0;34m)\u001b[0m\u001b[0;34m\u001b[0m\u001b[0;34m\u001b[0m\u001b[0m\n\u001b[0m\u001b[1;32m    233\u001b[0m \u001b[0;34m\u001b[0m\u001b[0m\n\u001b[1;32m    234\u001b[0m         \u001b[0;32mif\u001b[0m \u001b[0misinstance\u001b[0m\u001b[0;34m(\u001b[0m\u001b[0mx\u001b[0m\u001b[0;34m,\u001b[0m \u001b[0mnp\u001b[0m\u001b[0;34m.\u001b[0m\u001b[0mmatrix\u001b[0m\u001b[0;34m)\u001b[0m\u001b[0;34m:\u001b[0m\u001b[0;34m\u001b[0m\u001b[0;34m\u001b[0m\u001b[0m\n",
      "\u001b[0;32m/usr/local/lib/python3.9/site-packages/scipy/sparse/linalg/_interface.py\u001b[0m in \u001b[0;36m_matvec\u001b[0;34m(self, x)\u001b[0m\n\u001b[1;32m    197\u001b[0m         \u001b[0mwill\u001b[0m \u001b[0mdefine\u001b[0m \u001b[0mmatrix\u001b[0m\u001b[0;34m-\u001b[0m\u001b[0mvector\u001b[0m \u001b[0mmultiplication\u001b[0m \u001b[0;32mas\u001b[0m \u001b[0mwell\u001b[0m\u001b[0;34m.\u001b[0m\u001b[0;34m\u001b[0m\u001b[0;34m\u001b[0m\u001b[0m\n\u001b[1;32m    198\u001b[0m         \"\"\"\n\u001b[0;32m--> 199\u001b[0;31m         \u001b[0;32mreturn\u001b[0m \u001b[0mself\u001b[0m\u001b[0;34m.\u001b[0m\u001b[0mmatmat\u001b[0m\u001b[0;34m(\u001b[0m\u001b[0mx\u001b[0m\u001b[0;34m.\u001b[0m\u001b[0mreshape\u001b[0m\u001b[0;34m(\u001b[0m\u001b[0;34m-\u001b[0m\u001b[0;36m1\u001b[0m\u001b[0;34m,\u001b[0m \u001b[0;36m1\u001b[0m\u001b[0;34m)\u001b[0m\u001b[0;34m)\u001b[0m\u001b[0;34m\u001b[0m\u001b[0;34m\u001b[0m\u001b[0m\n\u001b[0m\u001b[1;32m    200\u001b[0m \u001b[0;34m\u001b[0m\u001b[0m\n\u001b[1;32m    201\u001b[0m     \u001b[0;32mdef\u001b[0m \u001b[0mmatvec\u001b[0m\u001b[0;34m(\u001b[0m\u001b[0mself\u001b[0m\u001b[0;34m,\u001b[0m \u001b[0mx\u001b[0m\u001b[0;34m)\u001b[0m\u001b[0;34m:\u001b[0m\u001b[0;34m\u001b[0m\u001b[0;34m\u001b[0m\u001b[0m\n",
      "\u001b[0;32m/usr/local/lib/python3.9/site-packages/scipy/sparse/linalg/_interface.py\u001b[0m in \u001b[0;36mmatmat\u001b[0;34m(self, X)\u001b[0m\n\u001b[1;32m    335\u001b[0m                              % (self.shape, X.shape))\n\u001b[1;32m    336\u001b[0m \u001b[0;34m\u001b[0m\u001b[0m\n\u001b[0;32m--> 337\u001b[0;31m         \u001b[0mY\u001b[0m \u001b[0;34m=\u001b[0m \u001b[0mself\u001b[0m\u001b[0;34m.\u001b[0m\u001b[0m_matmat\u001b[0m\u001b[0;34m(\u001b[0m\u001b[0mX\u001b[0m\u001b[0;34m)\u001b[0m\u001b[0;34m\u001b[0m\u001b[0;34m\u001b[0m\u001b[0m\n\u001b[0m\u001b[1;32m    338\u001b[0m \u001b[0;34m\u001b[0m\u001b[0m\n\u001b[1;32m    339\u001b[0m         \u001b[0;32mif\u001b[0m \u001b[0misinstance\u001b[0m\u001b[0;34m(\u001b[0m\u001b[0mY\u001b[0m\u001b[0;34m,\u001b[0m \u001b[0mnp\u001b[0m\u001b[0;34m.\u001b[0m\u001b[0mmatrix\u001b[0m\u001b[0;34m)\u001b[0m\u001b[0;34m:\u001b[0m\u001b[0;34m\u001b[0m\u001b[0;34m\u001b[0m\u001b[0m\n",
      "\u001b[0;32m/usr/local/lib/python3.9/site-packages/scipy/sparse/linalg/_interface.py\u001b[0m in \u001b[0;36m_matmat\u001b[0;34m(self, X)\u001b[0m\n\u001b[1;32m    731\u001b[0m \u001b[0;34m\u001b[0m\u001b[0m\n\u001b[1;32m    732\u001b[0m     \u001b[0;32mdef\u001b[0m \u001b[0m_matmat\u001b[0m\u001b[0;34m(\u001b[0m\u001b[0mself\u001b[0m\u001b[0;34m,\u001b[0m \u001b[0mX\u001b[0m\u001b[0;34m)\u001b[0m\u001b[0;34m:\u001b[0m\u001b[0;34m\u001b[0m\u001b[0;34m\u001b[0m\u001b[0m\n\u001b[0;32m--> 733\u001b[0;31m         \u001b[0;32mreturn\u001b[0m \u001b[0mself\u001b[0m\u001b[0;34m.\u001b[0m\u001b[0mA\u001b[0m\u001b[0;34m.\u001b[0m\u001b[0mdot\u001b[0m\u001b[0;34m(\u001b[0m\u001b[0mX\u001b[0m\u001b[0;34m)\u001b[0m\u001b[0;34m\u001b[0m\u001b[0;34m\u001b[0m\u001b[0m\n\u001b[0m\u001b[1;32m    734\u001b[0m \u001b[0;34m\u001b[0m\u001b[0m\n\u001b[1;32m    735\u001b[0m     \u001b[0;32mdef\u001b[0m \u001b[0m_adjoint\u001b[0m\u001b[0;34m(\u001b[0m\u001b[0mself\u001b[0m\u001b[0;34m)\u001b[0m\u001b[0;34m:\u001b[0m\u001b[0;34m\u001b[0m\u001b[0;34m\u001b[0m\u001b[0m\n",
      "\u001b[0;31mKeyboardInterrupt\u001b[0m: "
     ]
    }
   ],
   "source": [
    "data = coil2000()\n",
    "dim = Dim(data.train, data.test, data.col_names)\n",
    "#dim.unpickle_dim('dim/03-23-20:36.pkl')\n",
    "dim.apply_dim(num_dim=5)\n",
    "#dim.pickle_dim(datetime.now().strftime('%m-%d-%H:%M'))"
   ]
  },
  {
   "cell_type": "code",
   "execution_count": 3,
   "metadata": {},
   "outputs": [
    {
     "data": {
      "text/html": [
       "<div>\n",
       "<style scoped>\n",
       "    .dataframe tbody tr th:only-of-type {\n",
       "        vertical-align: middle;\n",
       "    }\n",
       "\n",
       "    .dataframe tbody tr th {\n",
       "        vertical-align: top;\n",
       "    }\n",
       "\n",
       "    .dataframe thead tr th {\n",
       "        text-align: left;\n",
       "    }\n",
       "</style>\n",
       "<table border=\"1\" class=\"dataframe\">\n",
       "  <thead>\n",
       "    <tr>\n",
       "      <th></th>\n",
       "      <th colspan=\"14\" halign=\"left\">5Dim</th>\n",
       "    </tr>\n",
       "    <tr>\n",
       "      <th></th>\n",
       "      <th colspan=\"2\" halign=\"left\">SLMVP</th>\n",
       "      <th colspan=\"6\" halign=\"left\">KPCA</th>\n",
       "      <th colspan=\"2\" halign=\"left\">LOL</th>\n",
       "      <th colspan=\"2\" halign=\"left\">LPP</th>\n",
       "      <th colspan=\"2\" halign=\"left\">LLE</th>\n",
       "    </tr>\n",
       "    <tr>\n",
       "      <th></th>\n",
       "      <th colspan=\"2\" halign=\"left\">Linear</th>\n",
       "      <th colspan=\"2\" halign=\"left\">Linear</th>\n",
       "      <th colspan=\"2\" halign=\"left\">Polynomial</th>\n",
       "      <th colspan=\"2\" halign=\"left\">Radial</th>\n",
       "      <th colspan=\"2\" halign=\"left\"></th>\n",
       "      <th colspan=\"2\" halign=\"left\">k=11</th>\n",
       "      <th colspan=\"2\" halign=\"left\">k=68-reg=0.001</th>\n",
       "    </tr>\n",
       "    <tr>\n",
       "      <th></th>\n",
       "      <th>Var</th>\n",
       "      <th>%</th>\n",
       "      <th>Var</th>\n",
       "      <th>%</th>\n",
       "      <th>Var</th>\n",
       "      <th>%</th>\n",
       "      <th>Var</th>\n",
       "      <th>%</th>\n",
       "      <th>Var</th>\n",
       "      <th>%</th>\n",
       "      <th>Var</th>\n",
       "      <th>%</th>\n",
       "      <th>Var</th>\n",
       "      <th>%</th>\n",
       "    </tr>\n",
       "  </thead>\n",
       "  <tbody>\n",
       "    <tr>\n",
       "      <th>0</th>\n",
       "      <td>0.000215</td>\n",
       "      <td>0.200049</td>\n",
       "      <td>35.284782</td>\n",
       "      <td>0.464525</td>\n",
       "      <td>13.085388</td>\n",
       "      <td>0.441269</td>\n",
       "      <td>0.062245</td>\n",
       "      <td>0.345213</td>\n",
       "      <td>294.074063</td>\n",
       "      <td>0.810918</td>\n",
       "      <td>1.422547e-19</td>\n",
       "      <td>7.286049e-01</td>\n",
       "      <td>0.000215</td>\n",
       "      <td>0.2</td>\n",
       "    </tr>\n",
       "    <tr>\n",
       "      <th>1</th>\n",
       "      <td>0.000214</td>\n",
       "      <td>0.199826</td>\n",
       "      <td>14.956229</td>\n",
       "      <td>0.196899</td>\n",
       "      <td>6.224530</td>\n",
       "      <td>0.209905</td>\n",
       "      <td>0.037767</td>\n",
       "      <td>0.209456</td>\n",
       "      <td>35.281034</td>\n",
       "      <td>0.097288</td>\n",
       "      <td>4.587233e-20</td>\n",
       "      <td>2.349505e-01</td>\n",
       "      <td>0.000215</td>\n",
       "      <td>0.2</td>\n",
       "    </tr>\n",
       "    <tr>\n",
       "      <th>2</th>\n",
       "      <td>0.000215</td>\n",
       "      <td>0.199928</td>\n",
       "      <td>9.570202</td>\n",
       "      <td>0.125992</td>\n",
       "      <td>3.834091</td>\n",
       "      <td>0.129294</td>\n",
       "      <td>0.030868</td>\n",
       "      <td>0.171197</td>\n",
       "      <td>14.956223</td>\n",
       "      <td>0.041242</td>\n",
       "      <td>5.038392e-21</td>\n",
       "      <td>2.580581e-02</td>\n",
       "      <td>0.000215</td>\n",
       "      <td>0.2</td>\n",
       "    </tr>\n",
       "    <tr>\n",
       "      <th>3</th>\n",
       "      <td>0.000215</td>\n",
       "      <td>0.200073</td>\n",
       "      <td>8.760983</td>\n",
       "      <td>0.115339</td>\n",
       "      <td>3.353089</td>\n",
       "      <td>0.113074</td>\n",
       "      <td>0.027196</td>\n",
       "      <td>0.150832</td>\n",
       "      <td>9.557407</td>\n",
       "      <td>0.026355</td>\n",
       "      <td>2.077158e-21</td>\n",
       "      <td>1.063886e-02</td>\n",
       "      <td>0.000215</td>\n",
       "      <td>0.2</td>\n",
       "    </tr>\n",
       "    <tr>\n",
       "      <th>4</th>\n",
       "      <td>0.000215</td>\n",
       "      <td>0.200124</td>\n",
       "      <td>7.386654</td>\n",
       "      <td>0.097245</td>\n",
       "      <td>3.156907</td>\n",
       "      <td>0.106458</td>\n",
       "      <td>0.022232</td>\n",
       "      <td>0.123302</td>\n",
       "      <td>8.774792</td>\n",
       "      <td>0.024197</td>\n",
       "      <td>1.652788e-34</td>\n",
       "      <td>8.465308e-16</td>\n",
       "      <td>0.000215</td>\n",
       "      <td>0.2</td>\n",
       "    </tr>\n",
       "  </tbody>\n",
       "</table>\n",
       "</div>"
      ],
      "text/plain": [
       "       5Dim                                                                \\\n",
       "      SLMVP                 KPCA                                            \n",
       "     Linear               Linear           Polynomial              Radial   \n",
       "        Var         %        Var         %        Var         %       Var   \n",
       "0  0.000215  0.200049  35.284782  0.464525  13.085388  0.441269  0.062245   \n",
       "1  0.000214  0.199826  14.956229  0.196899   6.224530  0.209905  0.037767   \n",
       "2  0.000215  0.199928   9.570202  0.125992   3.834091  0.129294  0.030868   \n",
       "3  0.000215  0.200073   8.760983  0.115339   3.353089  0.113074  0.027196   \n",
       "4  0.000215  0.200124   7.386654  0.097245   3.156907  0.106458  0.022232   \n",
       "\n",
       "                                                                              \\\n",
       "                    LOL                     LPP                          LLE   \n",
       "                                           k=11               k=68-reg=0.001   \n",
       "          %         Var         %           Var             %            Var   \n",
       "0  0.345213  294.074063  0.810918  1.422547e-19  7.286049e-01       0.000215   \n",
       "1  0.209456   35.281034  0.097288  4.587233e-20  2.349505e-01       0.000215   \n",
       "2  0.171197   14.956223  0.041242  5.038392e-21  2.580581e-02       0.000215   \n",
       "3  0.150832    9.557407  0.026355  2.077158e-21  1.063886e-02       0.000215   \n",
       "4  0.123302    8.774792  0.024197  1.652788e-34  8.465308e-16       0.000215   \n",
       "\n",
       "        \n",
       "        \n",
       "        \n",
       "     %  \n",
       "0  0.2  \n",
       "1  0.2  \n",
       "2  0.2  \n",
       "3  0.2  \n",
       "4  0.2  "
      ]
     },
     "execution_count": 3,
     "metadata": {},
     "output_type": "execute_result"
    }
   ],
   "source": [
    "dim.get_eigenvalues()"
   ]
  },
  {
   "cell_type": "code",
   "execution_count": 3,
   "metadata": {},
   "outputs": [
    {
     "name": "stderr",
     "output_type": "stream",
     "text": [
      "  0%|          | 0/13 [00:00<?, ?it/s]"
     ]
    },
    {
     "name": "stdout",
     "output_type": "stream",
     "text": [
      "XGBoost\n"
     ]
    },
    {
     "name": "stderr",
     "output_type": "stream",
     "text": [
      "100%|██████████| 13/13 [01:07<00:00,  5.17s/it]\n"
     ]
    }
   ],
   "source": [
    "dim.apply_clf()"
   ]
  },
  {
   "attachments": {},
   "cell_type": "markdown",
   "metadata": {},
   "source": [
    "# Clustering"
   ]
  },
  {
   "cell_type": "code",
   "execution_count": 41,
   "metadata": {},
   "outputs": [
    {
     "name": "stdout",
     "output_type": "stream",
     "text": [
      "[0 0 0 0 0 0 0 0 0 0 0 0 0 0 0 0 0 0 0 0 0 0 0 0 0 0 0 0 0 0 0 0 0 0 0 0 0\n",
      " 0 0 0 0 0 2 2 0 0 0 0 0 0 0 0 0 0 0 1 0 2 1 0 2 2 2 1 2 2 1 2 0 0 2 2 2 2\n",
      " 2 2 1 0 1 1 1 2 2 1 2 2 1 2 0 0 1 1 0 0 0 2 0 0 0 0 0 0 0 0 0 0 0 2 0 0 0\n",
      " 0 0 0 0 0 0 0 0 0 0 0 0 0 0 0 0 0 0 0 0 0 0 0]\n"
     ]
    }
   ],
   "source": [
    "# Cluster features\n",
    "scaler = MinMaxScaler()\n",
    "scaled_X_T = scaler.fit_transform(dim.X_train.T)\n",
    "kmeans = KMeans(\n",
    "    init=\"random\",\n",
    "    n_clusters=3,\n",
    "    n_init=10,\n",
    "    max_iter=300,\n",
    "    random_state=42\n",
    "    )\n",
    "label = kmeans.fit_predict(scaled_X_T)\n",
    "print(label)"
   ]
  },
  {
   "cell_type": "code",
   "execution_count": 11,
   "metadata": {},
   "outputs": [
    {
     "data": {
      "text/html": [
       "<div>\n",
       "<style scoped>\n",
       "    .dataframe tbody tr th:only-of-type {\n",
       "        vertical-align: middle;\n",
       "    }\n",
       "\n",
       "    .dataframe tbody tr th {\n",
       "        vertical-align: top;\n",
       "    }\n",
       "\n",
       "    .dataframe thead th {\n",
       "        text-align: right;\n",
       "    }\n",
       "</style>\n",
       "<table border=\"1\" class=\"dataframe\">\n",
       "  <thead>\n",
       "    <tr style=\"text-align: right;\">\n",
       "      <th></th>\n",
       "      <th>index</th>\n",
       "      <th>Best Score</th>\n",
       "      <th>Params</th>\n",
       "      <th>Model</th>\n",
       "      <th>Dimensions</th>\n",
       "      <th>Dim. Technique</th>\n",
       "      <th>Dim. Params</th>\n",
       "    </tr>\n",
       "  </thead>\n",
       "  <tbody>\n",
       "    <tr>\n",
       "      <th>0</th>\n",
       "      <td>XGBoost-1Dim-SLMVP-Polynomial-Order=5</td>\n",
       "      <td>0.930472</td>\n",
       "      <td>{'xgb__n_estimators': 5}</td>\n",
       "      <td>XGBoost</td>\n",
       "      <td>1Dim</td>\n",
       "      <td>SLMVP</td>\n",
       "      <td>Polynomial-Order=5</td>\n",
       "    </tr>\n",
       "    <tr>\n",
       "      <th>1</th>\n",
       "      <td>XGBoost-1Dim-SLMVP-Linear</td>\n",
       "      <td>0.930472</td>\n",
       "      <td>{'xgb__n_estimators': 5}</td>\n",
       "      <td>XGBoost</td>\n",
       "      <td>1Dim</td>\n",
       "      <td>SLMVP</td>\n",
       "      <td>Linear</td>\n",
       "    </tr>\n",
       "    <tr>\n",
       "      <th>2</th>\n",
       "      <td>XGBoost-1Dim-SLMVP-Radial-Gammas=0.01</td>\n",
       "      <td>0.930472</td>\n",
       "      <td>{'xgb__n_estimators': 5}</td>\n",
       "      <td>XGBoost</td>\n",
       "      <td>1Dim</td>\n",
       "      <td>SLMVP</td>\n",
       "      <td>Radial-Gammas=0.01</td>\n",
       "    </tr>\n",
       "    <tr>\n",
       "      <th>3</th>\n",
       "      <td>XGBoost-1Dim-SLMVP-Radial-Gammas=0.1</td>\n",
       "      <td>0.930472</td>\n",
       "      <td>{'xgb__n_estimators': 5}</td>\n",
       "      <td>XGBoost</td>\n",
       "      <td>1Dim</td>\n",
       "      <td>SLMVP</td>\n",
       "      <td>Radial-Gammas=0.1</td>\n",
       "    </tr>\n",
       "    <tr>\n",
       "      <th>4</th>\n",
       "      <td>XGBoost-1Dim-SLMVP-Radial-Gammas=1</td>\n",
       "      <td>0.930472</td>\n",
       "      <td>{'xgb__n_estimators': 5}</td>\n",
       "      <td>XGBoost</td>\n",
       "      <td>1Dim</td>\n",
       "      <td>SLMVP</td>\n",
       "      <td>Radial-Gammas=1</td>\n",
       "    </tr>\n",
       "    <tr>\n",
       "      <th>...</th>\n",
       "      <td>...</td>\n",
       "      <td>...</td>\n",
       "      <td>...</td>\n",
       "      <td>...</td>\n",
       "      <td>...</td>\n",
       "      <td>...</td>\n",
       "      <td>...</td>\n",
       "    </tr>\n",
       "    <tr>\n",
       "      <th>60</th>\n",
       "      <td>XGBoost-50Dim-KPCA-Polynomial</td>\n",
       "      <td>0.927039</td>\n",
       "      <td>{'xgb__n_estimators': 5}</td>\n",
       "      <td>XGBoost</td>\n",
       "      <td>50Dim</td>\n",
       "      <td>KPCA</td>\n",
       "      <td>Polynomial</td>\n",
       "    </tr>\n",
       "    <tr>\n",
       "      <th>61</th>\n",
       "      <td>XGBoost-50Dim-KPCA-Radial</td>\n",
       "      <td>0.927039</td>\n",
       "      <td>{'xgb__n_estimators': 5}</td>\n",
       "      <td>XGBoost</td>\n",
       "      <td>50Dim</td>\n",
       "      <td>KPCA</td>\n",
       "      <td>Radial</td>\n",
       "    </tr>\n",
       "    <tr>\n",
       "      <th>62</th>\n",
       "      <td>XGBoost-50Dim-LOL</td>\n",
       "      <td>0.927039</td>\n",
       "      <td>{'xgb__n_estimators': 10}</td>\n",
       "      <td>XGBoost</td>\n",
       "      <td>50Dim</td>\n",
       "      <td>LOL</td>\n",
       "      <td>None</td>\n",
       "    </tr>\n",
       "    <tr>\n",
       "      <th>63</th>\n",
       "      <td>XGBoost-50Dim-LPP-k=68</td>\n",
       "      <td>0.926180</td>\n",
       "      <td>{'xgb__n_estimators': 10}</td>\n",
       "      <td>XGBoost</td>\n",
       "      <td>50Dim</td>\n",
       "      <td>LPP</td>\n",
       "      <td>k=68</td>\n",
       "    </tr>\n",
       "    <tr>\n",
       "      <th>64</th>\n",
       "      <td>XGBoost-50Dim-LLE-k=68-reg=0.001</td>\n",
       "      <td>0.928755</td>\n",
       "      <td>{'xgb__n_estimators': 10}</td>\n",
       "      <td>XGBoost</td>\n",
       "      <td>50Dim</td>\n",
       "      <td>LLE</td>\n",
       "      <td>k=68-reg=0.001</td>\n",
       "    </tr>\n",
       "  </tbody>\n",
       "</table>\n",
       "<p>65 rows × 7 columns</p>\n",
       "</div>"
      ],
      "text/plain": [
       "                                    index  Best Score  \\\n",
       "0   XGBoost-1Dim-SLMVP-Polynomial-Order=5    0.930472   \n",
       "1               XGBoost-1Dim-SLMVP-Linear    0.930472   \n",
       "2   XGBoost-1Dim-SLMVP-Radial-Gammas=0.01    0.930472   \n",
       "3    XGBoost-1Dim-SLMVP-Radial-Gammas=0.1    0.930472   \n",
       "4      XGBoost-1Dim-SLMVP-Radial-Gammas=1    0.930472   \n",
       "..                                    ...         ...   \n",
       "60          XGBoost-50Dim-KPCA-Polynomial    0.927039   \n",
       "61              XGBoost-50Dim-KPCA-Radial    0.927039   \n",
       "62                      XGBoost-50Dim-LOL    0.927039   \n",
       "63                 XGBoost-50Dim-LPP-k=68    0.926180   \n",
       "64       XGBoost-50Dim-LLE-k=68-reg=0.001    0.928755   \n",
       "\n",
       "                       Params    Model Dimensions Dim. Technique  \\\n",
       "0    {'xgb__n_estimators': 5}  XGBoost       1Dim          SLMVP   \n",
       "1    {'xgb__n_estimators': 5}  XGBoost       1Dim          SLMVP   \n",
       "2    {'xgb__n_estimators': 5}  XGBoost       1Dim          SLMVP   \n",
       "3    {'xgb__n_estimators': 5}  XGBoost       1Dim          SLMVP   \n",
       "4    {'xgb__n_estimators': 5}  XGBoost       1Dim          SLMVP   \n",
       "..                        ...      ...        ...            ...   \n",
       "60   {'xgb__n_estimators': 5}  XGBoost      50Dim           KPCA   \n",
       "61   {'xgb__n_estimators': 5}  XGBoost      50Dim           KPCA   \n",
       "62  {'xgb__n_estimators': 10}  XGBoost      50Dim            LOL   \n",
       "63  {'xgb__n_estimators': 10}  XGBoost      50Dim            LPP   \n",
       "64  {'xgb__n_estimators': 10}  XGBoost      50Dim            LLE   \n",
       "\n",
       "           Dim. Params  \n",
       "0   Polynomial-Order=5  \n",
       "1               Linear  \n",
       "2   Radial-Gammas=0.01  \n",
       "3    Radial-Gammas=0.1  \n",
       "4      Radial-Gammas=1  \n",
       "..                 ...  \n",
       "60          Polynomial  \n",
       "61              Radial  \n",
       "62                None  \n",
       "63                k=68  \n",
       "64      k=68-reg=0.001  \n",
       "\n",
       "[65 rows x 7 columns]"
      ]
     },
     "execution_count": 11,
     "metadata": {},
     "output_type": "execute_result"
    }
   ],
   "source": [
    "import pandas as pd\n",
    "\n",
    "df = pd.DataFrame.from_dict(dim.scores, orient='index', columns=['Best Score', 'Params']).reset_index()\n",
    "df[['Model', 'Dimensions', 'Dim. Technique', 'Dim. Params']] = df[\"index\"].str.split(\"-\", n = 3, expand = True)\n",
    "df"
   ]
  },
  {
   "cell_type": "code",
   "execution_count": 13,
   "metadata": {},
   "outputs": [
    {
     "data": {
      "text/html": [
       "<div>\n",
       "<style scoped>\n",
       "    .dataframe tbody tr th:only-of-type {\n",
       "        vertical-align: middle;\n",
       "    }\n",
       "\n",
       "    .dataframe tbody tr th {\n",
       "        vertical-align: top;\n",
       "    }\n",
       "\n",
       "    .dataframe thead th {\n",
       "        text-align: right;\n",
       "    }\n",
       "</style>\n",
       "<table border=\"1\" class=\"dataframe\">\n",
       "  <thead>\n",
       "    <tr style=\"text-align: right;\">\n",
       "      <th></th>\n",
       "      <th>Dim. Technique</th>\n",
       "      <th>index</th>\n",
       "      <th>Best Score</th>\n",
       "      <th>Params</th>\n",
       "      <th>Model</th>\n",
       "      <th>Dimensions</th>\n",
       "      <th>Dim. Params</th>\n",
       "    </tr>\n",
       "  </thead>\n",
       "  <tbody>\n",
       "    <tr>\n",
       "      <th>0</th>\n",
       "      <td>KPCA</td>\n",
       "      <td>XGBoost-50Dim-KPCA-Radial</td>\n",
       "      <td>0.927039</td>\n",
       "      <td>{'xgb__n_estimators': 5}</td>\n",
       "      <td>XGBoost</td>\n",
       "      <td>50Dim</td>\n",
       "      <td>Radial</td>\n",
       "    </tr>\n",
       "    <tr>\n",
       "      <th>1</th>\n",
       "      <td>LLE</td>\n",
       "      <td>XGBoost-50Dim-LLE-k=68-reg=0.001</td>\n",
       "      <td>0.928755</td>\n",
       "      <td>{'xgb__n_estimators': 10}</td>\n",
       "      <td>XGBoost</td>\n",
       "      <td>50Dim</td>\n",
       "      <td>k=68-reg=0.001</td>\n",
       "    </tr>\n",
       "    <tr>\n",
       "      <th>2</th>\n",
       "      <td>LOL</td>\n",
       "      <td>XGBoost-50Dim-LOL</td>\n",
       "      <td>0.927039</td>\n",
       "      <td>{'xgb__n_estimators': 10}</td>\n",
       "      <td>XGBoost</td>\n",
       "      <td>50Dim</td>\n",
       "      <td>None</td>\n",
       "    </tr>\n",
       "    <tr>\n",
       "      <th>3</th>\n",
       "      <td>LPP</td>\n",
       "      <td>XGBoost-50Dim-LPP-k=68</td>\n",
       "      <td>0.926180</td>\n",
       "      <td>{'xgb__n_estimators': 10}</td>\n",
       "      <td>XGBoost</td>\n",
       "      <td>50Dim</td>\n",
       "      <td>k=68</td>\n",
       "    </tr>\n",
       "    <tr>\n",
       "      <th>4</th>\n",
       "      <td>PCA</td>\n",
       "      <td>XGBoost-10Dim-PCA</td>\n",
       "      <td>0.928755</td>\n",
       "      <td>{'xgb__n_estimators': 10}</td>\n",
       "      <td>XGBoost</td>\n",
       "      <td>10Dim</td>\n",
       "      <td>None</td>\n",
       "    </tr>\n",
       "    <tr>\n",
       "      <th>5</th>\n",
       "      <td>SLMVP</td>\n",
       "      <td>XGBoost-10Dim-SLMVP-Radial-Gammas=0.1</td>\n",
       "      <td>0.924464</td>\n",
       "      <td>{'xgb__n_estimators': 10}</td>\n",
       "      <td>XGBoost</td>\n",
       "      <td>10Dim</td>\n",
       "      <td>Radial-Gammas=0.1</td>\n",
       "    </tr>\n",
       "  </tbody>\n",
       "</table>\n",
       "</div>"
      ],
      "text/plain": [
       "  Dim. Technique                                  index  Best Score  \\\n",
       "0           KPCA              XGBoost-50Dim-KPCA-Radial    0.927039   \n",
       "1            LLE       XGBoost-50Dim-LLE-k=68-reg=0.001    0.928755   \n",
       "2            LOL                      XGBoost-50Dim-LOL    0.927039   \n",
       "3            LPP                 XGBoost-50Dim-LPP-k=68    0.926180   \n",
       "4            PCA                      XGBoost-10Dim-PCA    0.928755   \n",
       "5          SLMVP  XGBoost-10Dim-SLMVP-Radial-Gammas=0.1    0.924464   \n",
       "\n",
       "                      Params    Model Dimensions        Dim. Params  \n",
       "0   {'xgb__n_estimators': 5}  XGBoost      50Dim             Radial  \n",
       "1  {'xgb__n_estimators': 10}  XGBoost      50Dim     k=68-reg=0.001  \n",
       "2  {'xgb__n_estimators': 10}  XGBoost      50Dim               None  \n",
       "3  {'xgb__n_estimators': 10}  XGBoost      50Dim               k=68  \n",
       "4  {'xgb__n_estimators': 10}  XGBoost      10Dim               None  \n",
       "5  {'xgb__n_estimators': 10}  XGBoost      10Dim  Radial-Gammas=0.1  "
      ]
     },
     "execution_count": 13,
     "metadata": {},
     "output_type": "execute_result"
    }
   ],
   "source": [
    "df.sort_values('Best Score').groupby('Dim. Technique', as_index=False).first()"
   ]
  },
  {
   "cell_type": "code",
   "execution_count": 19,
   "metadata": {},
   "outputs": [
    {
     "data": {
      "text/plain": [
       "'1Dim-KPCA-Linear'"
      ]
     },
     "execution_count": 19,
     "metadata": {},
     "output_type": "execute_result"
    }
   ],
   "source": [
    "x = 'XGBoost-1Dim-KPCA-Linear'\n",
    "x[8:]"
   ]
  },
  {
   "cell_type": "code",
   "execution_count": 20,
   "metadata": {},
   "outputs": [
    {
     "data": {
      "text/plain": [
       "['1Dim-KPCA-Linear',\n",
       " '1Dim-LLE-k=68-reg=0.001',\n",
       " '1Dim-LOL',\n",
       " '1Dim-LPP-k=68',\n",
       " '1Dim-PCA',\n",
       " '1Dim-SLMVP-Polynomial-Order=5']"
      ]
     },
     "execution_count": 20,
     "metadata": {},
     "output_type": "execute_result"
    }
   ],
   "source": [
    "best_performing = df[df.Dimensions == '1Dim'].sort_values('Best Score')\\\n",
    "    .groupby('Dim. Technique', as_index=False)\\\n",
    "    .first()['index'].to_list()\n",
    "best_performing = [x[8:] for x in best_performing]\n",
    "\n",
    "best_performing"
   ]
  },
  {
   "cell_type": "code",
   "execution_count": 22,
   "metadata": {},
   "outputs": [],
   "source": [
    "dim.get_corr_table()[best_performing].to_csv('corr_1dim')"
   ]
  },
  {
   "cell_type": "code",
   "execution_count": 9,
   "metadata": {},
   "outputs": [
    {
     "data": {
      "text/html": [
       "<div>\n",
       "<style scoped>\n",
       "    .dataframe tbody tr th:only-of-type {\n",
       "        vertical-align: middle;\n",
       "    }\n",
       "\n",
       "    .dataframe tbody tr th {\n",
       "        vertical-align: top;\n",
       "    }\n",
       "\n",
       "    .dataframe thead th {\n",
       "        text-align: right;\n",
       "    }\n",
       "</style>\n",
       "<table border=\"1\" class=\"dataframe\">\n",
       "  <thead>\n",
       "    <tr style=\"text-align: right;\">\n",
       "      <th></th>\n",
       "      <th>Best Score</th>\n",
       "    </tr>\n",
       "    <tr>\n",
       "      <th>Dim. Technique</th>\n",
       "      <th></th>\n",
       "    </tr>\n",
       "  </thead>\n",
       "  <tbody>\n",
       "    <tr>\n",
       "      <th>KPCA</th>\n",
       "      <td>0.931330</td>\n",
       "    </tr>\n",
       "    <tr>\n",
       "      <th>LLE</th>\n",
       "      <td>0.930472</td>\n",
       "    </tr>\n",
       "    <tr>\n",
       "      <th>LOL</th>\n",
       "      <td>0.930472</td>\n",
       "    </tr>\n",
       "    <tr>\n",
       "      <th>LPP</th>\n",
       "      <td>0.930472</td>\n",
       "    </tr>\n",
       "    <tr>\n",
       "      <th>PCA</th>\n",
       "      <td>0.930472</td>\n",
       "    </tr>\n",
       "    <tr>\n",
       "      <th>SLMVP</th>\n",
       "      <td>0.931330</td>\n",
       "    </tr>\n",
       "  </tbody>\n",
       "</table>\n",
       "</div>"
      ],
      "text/plain": [
       "                Best Score\n",
       "Dim. Technique            \n",
       "KPCA              0.931330\n",
       "LLE               0.930472\n",
       "LOL               0.930472\n",
       "LPP               0.930472\n",
       "PCA               0.930472\n",
       "SLMVP             0.931330"
      ]
     },
     "execution_count": 9,
     "metadata": {},
     "output_type": "execute_result"
    }
   ],
   "source": [
    "df.groupby(['Dim. Technique']).max('Best Score')"
   ]
  },
  {
   "attachments": {},
   "cell_type": "markdown",
   "metadata": {},
   "source": [
    "# Artificial Dataset\n",
    "\n",
    "- **n_samples** int, default=100\n",
    "The number of samples.\n",
    "- **n_features** int, default=20\n",
    "The total number of features. These comprise n_informative informative features, n_redundant redundant features, n_repeated duplicated features and n_features-n_informative-n_redundant-n_repeated useless features drawn at random.\n",
    "- **n_informative** int, default=2\n",
    "The number of informative features. Each class is composed of a number of gaussian clusters each located around the vertices of a hypercube in a subspace of dimension n_informative. For each cluster, informative features are drawn independently from N(0, 1) and then randomly linearly combined within each cluster in order to add covariance. The clusters are then placed on the vertices of the hypercube.\n",
    "- **n_redundant** int, default=2\n",
    "The number of redundant features. These features are generated as random linear combinations of the informative features.\n",
    "- **n_repeated** int, default=0\n",
    "The number of duplicated features, drawn randomly from the informative and the redundant features.\n",
    "- **n_classes** int, default=2\n",
    "The number of classes (or labels) of the classification problem.\n",
    "- **n_clusters_per_class** int, default=2\n",
    "The number of clusters per class.\n",
    "- **weights** array-like of shape (n_classes,) or (n_classes - 1,), default=None\n",
    "The proportions of samples assigned to each class. If None, then classes are balanced. Note that if len(weights) == n_classes - 1, then the last class weight is automatically inferred. More than n_samples samples may be returned if the sum of weights exceeds 1. Note that the actual class proportions will not exactly match weights when flip_y isn’t 0.\n",
    "- **flip_y** float, default=0.01\n",
    "The fraction of samples whose class is assigned randomly. Larger values introduce noise in the labels and make the classification task harder. Note that the default setting flip_y > 0 might lead to less than n_classes in y in some cases.\n",
    "- **class_sep** float, default=1.0\n",
    "The factor multiplying the hypercube size. Larger values spread out the clusters/classes and make the classification task easier.\n",
    "- **hypercube** bool, default=True\n",
    "If True, the clusters are put on the vertices of a hypercube. If False, the clusters are put on the vertices of a random polytope.\n",
    "- **shift** float, ndarray of shape (n_features,) or None, default=0.0\n",
    "Shift features by the specified value. If None, then features are shifted by a random value drawn in [-class_sep, class_sep].\n",
    "- **scale** float, ndarray of shape (n_features,) or None, default=1.0\n",
    "Multiply features by the specified value. If None, then features are scaled by a random value drawn in [1, 100]. Note that scaling happens after shifting.\n",
    "- **shuffle** bool, default=True\n",
    "Shuffle the samples and the features.\n",
    "- **random_state** int, RandomState instance or None, default=None\n",
    "Determines random number generation for dataset creation. Pass an int for reproducible output across multiple function calls. See Glossary."
   ]
  },
  {
   "cell_type": "code",
   "execution_count": 1,
   "metadata": {},
   "outputs": [],
   "source": [
    "from sklearn.datasets import make_classification\n",
    "from sklearn.model_selection import train_test_split\n",
    "\n",
    "X, y = make_classification(n_samples=1000, n_features=300, n_informative=4, n_redundant=296, random_state=5)\n",
    "X_train, X_test, y_train, y_test = train_test_split(X, y, test_size=0.20, random_state=33)\n"
   ]
  }
 ],
 "metadata": {
  "kernelspec": {
   "display_name": "Python 3",
   "language": "python",
   "name": "python3"
  },
  "language_info": {
   "codemirror_mode": {
    "name": "ipython",
    "version": 3
   },
   "file_extension": ".py",
   "mimetype": "text/x-python",
   "name": "python",
   "nbconvert_exporter": "python",
   "pygments_lexer": "ipython3",
   "version": "3.9.1"
  },
  "orig_nbformat": 4,
  "vscode": {
   "interpreter": {
    "hash": "ac2eaa0ea0ebeafcc7822e65e46aa9d4f966f30b695406963e145ea4a91cd4fc"
   }
  }
 },
 "nbformat": 4,
 "nbformat_minor": 2
}
